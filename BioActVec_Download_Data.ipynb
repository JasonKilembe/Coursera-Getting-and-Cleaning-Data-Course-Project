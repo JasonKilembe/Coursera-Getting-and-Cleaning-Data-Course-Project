{
  "nbformat": 4,
  "nbformat_minor": 0,
  "metadata": {
    "colab": {
      "provenance": [],
      "authorship_tag": "ABX9TyPX+2SE7QxTw6aRZWs7wWeh",
      "include_colab_link": true
    },
    "kernelspec": {
      "name": "python3",
      "display_name": "Python 3"
    },
    "language_info": {
      "name": "python"
    }
  },
  "cells": [
    {
      "cell_type": "markdown",
      "metadata": {
        "id": "view-in-github",
        "colab_type": "text"
      },
      "source": [
        "<a href=\"https://colab.research.google.com/github/JasonKilembe/Coursera-Getting-and-Cleaning-Data-Course-Project/blob/main/BioActVec_Download_Data.ipynb\" target=\"_parent\"><img src=\"https://colab.research.google.com/assets/colab-badge.svg\" alt=\"Open In Colab\"/></a>"
      ]
    },
    {
      "cell_type": "code",
      "execution_count": 2,
      "metadata": {
        "colab": {
          "base_uri": "https://localhost:8080/"
        },
        "id": "rJJO2rfzxdMz",
        "outputId": "0b6e81c4-7061-4e6a-941f-ea8352b6166a"
      },
      "outputs": [
        {
          "output_type": "stream",
          "name": "stdout",
          "text": [
            "Collecting chembl_webresource_client\n",
            "  Downloading chembl_webresource_client-0.10.9-py3-none-any.whl.metadata (1.4 kB)\n",
            "Requirement already satisfied: pandas in /usr/local/lib/python3.11/dist-packages (2.2.2)\n",
            "Requirement already satisfied: urllib3 in /usr/local/lib/python3.11/dist-packages (from chembl_webresource_client) (2.4.0)\n",
            "Requirement already satisfied: requests>=2.18.4 in /usr/local/lib/python3.11/dist-packages (from chembl_webresource_client) (2.32.3)\n",
            "Collecting requests-cache~=1.2 (from chembl_webresource_client)\n",
            "  Downloading requests_cache-1.2.1-py3-none-any.whl.metadata (9.9 kB)\n",
            "Requirement already satisfied: easydict in /usr/local/lib/python3.11/dist-packages (from chembl_webresource_client) (1.13)\n",
            "Requirement already satisfied: numpy>=1.23.2 in /usr/local/lib/python3.11/dist-packages (from pandas) (2.0.2)\n",
            "Requirement already satisfied: python-dateutil>=2.8.2 in /usr/local/lib/python3.11/dist-packages (from pandas) (2.9.0.post0)\n",
            "Requirement already satisfied: pytz>=2020.1 in /usr/local/lib/python3.11/dist-packages (from pandas) (2025.2)\n",
            "Requirement already satisfied: tzdata>=2022.7 in /usr/local/lib/python3.11/dist-packages (from pandas) (2025.2)\n",
            "Requirement already satisfied: six>=1.5 in /usr/local/lib/python3.11/dist-packages (from python-dateutil>=2.8.2->pandas) (1.17.0)\n",
            "Requirement already satisfied: charset-normalizer<4,>=2 in /usr/local/lib/python3.11/dist-packages (from requests>=2.18.4->chembl_webresource_client) (3.4.2)\n",
            "Requirement already satisfied: idna<4,>=2.5 in /usr/local/lib/python3.11/dist-packages (from requests>=2.18.4->chembl_webresource_client) (3.10)\n",
            "Requirement already satisfied: certifi>=2017.4.17 in /usr/local/lib/python3.11/dist-packages (from requests>=2.18.4->chembl_webresource_client) (2025.4.26)\n",
            "Requirement already satisfied: attrs>=21.2 in /usr/local/lib/python3.11/dist-packages (from requests-cache~=1.2->chembl_webresource_client) (25.3.0)\n",
            "Collecting cattrs>=22.2 (from requests-cache~=1.2->chembl_webresource_client)\n",
            "  Downloading cattrs-24.1.3-py3-none-any.whl.metadata (8.4 kB)\n",
            "Requirement already satisfied: platformdirs>=2.5 in /usr/local/lib/python3.11/dist-packages (from requests-cache~=1.2->chembl_webresource_client) (4.3.8)\n",
            "Collecting url-normalize>=1.4 (from requests-cache~=1.2->chembl_webresource_client)\n",
            "  Downloading url_normalize-2.2.1-py3-none-any.whl.metadata (5.6 kB)\n",
            "Downloading chembl_webresource_client-0.10.9-py3-none-any.whl (55 kB)\n",
            "\u001b[2K   \u001b[90m━━━━━━━━━━━━━━━━━━━━━━━━━━━━━━━━━━━━━━━━\u001b[0m \u001b[32m55.2/55.2 kB\u001b[0m \u001b[31m2.5 MB/s\u001b[0m eta \u001b[36m0:00:00\u001b[0m\n",
            "\u001b[?25hDownloading requests_cache-1.2.1-py3-none-any.whl (61 kB)\n",
            "\u001b[2K   \u001b[90m━━━━━━━━━━━━━━━━━━━━━━━━━━━━━━━━━━━━━━━━\u001b[0m \u001b[32m61.4/61.4 kB\u001b[0m \u001b[31m4.3 MB/s\u001b[0m eta \u001b[36m0:00:00\u001b[0m\n",
            "\u001b[?25hDownloading cattrs-24.1.3-py3-none-any.whl (66 kB)\n",
            "\u001b[2K   \u001b[90m━━━━━━━━━━━━━━━━━━━━━━━━━━━━━━━━━━━━━━━━\u001b[0m \u001b[32m66.5/66.5 kB\u001b[0m \u001b[31m4.6 MB/s\u001b[0m eta \u001b[36m0:00:00\u001b[0m\n",
            "\u001b[?25hDownloading url_normalize-2.2.1-py3-none-any.whl (14 kB)\n",
            "Installing collected packages: url-normalize, cattrs, requests-cache, chembl_webresource_client\n",
            "Successfully installed cattrs-24.1.3 chembl_webresource_client-0.10.9 requests-cache-1.2.1 url-normalize-2.2.1\n"
          ]
        }
      ],
      "source": [
        "!pip install chembl_webresource_client pandas"
      ]
    },
    {
      "cell_type": "code",
      "source": [
        "from chembl_webresource_client.new_client import new_client\n",
        "import pandas as pd\n",
        "import time\n",
        "\n",
        "# Cibles d'intérêt\n",
        "target_ids = {\n",
        "    \"HIF1A\": \"CHEMBL2221345\",\n",
        "    \"AR\": \"CHEMBL1871\",\n",
        "    \"EGFR\": \"CHEMBL203\",\n",
        "    \"mTOR\": \"CHEMBL2842\",\n",
        "    \"VEGFR2\": \"CHEMBL279\",\n",
        "    \"TOP2A\": \"CHEMBL1824\"\n",
        "}"
      ],
      "metadata": {
        "id": "9n3Gk4oRxpGo"
      },
      "execution_count": null,
      "outputs": []
    },
    {
      "cell_type": "code",
      "source": [
        "# Téléchargement des données enrichies\n",
        "def get_enriched_bioactivities(target_id, assay_types=[\"IC50\", \"Ki\", \"EC50\"], confidence_score=7):\n",
        "    activities = new_client.activity.filter(\n",
        "        target_chembl_id=target_id,\n",
        "        standard_type__in=assay_types,\n",
        "        standard_value__isnull=False,\n",
        "        target_confidence_score__gte=confidence_score\n",
        "    ).only(\n",
        "        'molecule_chembl_id',\n",
        "        'canonical_smiles',\n",
        "        'standard_type',\n",
        "        'standard_relation',\n",
        "        'standard_value',\n",
        "        'standard_units',\n",
        "        'assay_type',\n",
        "        'assay_description',\n",
        "        'assay_chembl_id',\n",
        "        'assay_cell_type',\n",
        "        'assay_tissue',\n",
        "        'target_organism',\n",
        "        'document_chembl_id'\n",
        "    )\n",
        "    return pd.DataFrame(activities)"
      ],
      "metadata": {
        "id": "1bDytvkhxxQC"
      },
      "execution_count": null,
      "outputs": []
    },
    {
      "cell_type": "code",
      "source": [
        "# Collecte\n",
        "all_data = []\n",
        "for name, chembl_id in target_ids.items():\n",
        "    print(f\"Fetching {name}...\")\n",
        "    df = get_enriched_bioactivities(chembl_id)\n",
        "    df[\"target_name\"] = name\n",
        "    all_data.append(df)\n",
        "    time.sleep(1)\n",
        "\n",
        "bioactivity_enriched_df = pd.concat(all_data, ignore_index=True)\n",
        "\n",
        "# Nettoyage et sauvegarde\n",
        "bioactivity_enriched_df.drop_duplicates(inplace=True)\n",
        "bioactivity_enriched_df.to_csv(\"bioactivity_enriched.csv\", index=False)\n",
        "print(\"Enriched assay-aware data saved as 'bioactivity_enriched.csv'\")\n"
      ],
      "metadata": {
        "colab": {
          "base_uri": "https://localhost:8080/"
        },
        "id": "hu6iKc_Ix5j0",
        "outputId": "94dd0af3-7799-4026-aee3-80190143bb52"
      },
      "execution_count": null,
      "outputs": [
        {
          "output_type": "stream",
          "name": "stdout",
          "text": [
            "Fetching data for HIF1A (CHEMBL2221345)...\n",
            "Fetching data for AR (CHEMBL1871)...\n",
            "Fetching data for EGFR (CHEMBL203)...\n",
            "Fetching data for mTOR (CHEMBL2842)...\n",
            "Fetching data for VEGFR2 (CHEMBL279)...\n",
            "Fetching data for TOP2A (CHEMBL1824)...\n"
          ]
        }
      ]
    }
  ]
}